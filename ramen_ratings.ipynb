{
 "cells": [
  {
   "cell_type": "code",
   "execution_count": 79,
   "metadata": {
    "executionInfo": {
     "elapsed": 282,
     "status": "ok",
     "timestamp": 1613770020658,
     "user": {
      "displayName": "Louise Stephanus",
      "photoUrl": "https://lh3.googleusercontent.com/-rJLQcAeYvCM/AAAAAAAAAAI/AAAAAAAAEn4/v1QpVK4XHqI/s64/photo.jpg",
      "userId": "09768972464709254885"
     },
     "user_tz": 300
    },
    "id": "5qGWIdFUL0Us"
   },
   "outputs": [],
   "source": [
    "#importing all important packages\n",
    "import numpy as np #linear algebra\n",
    "import pandas as pd\n",
    "from scipy import stats\n",
    "import matplotlib.pyplot as plt #data visualisation\n",
    "import seaborn as sns #data visualisation"
   ]
  },
  {
   "cell_type": "code",
   "execution_count": 80,
   "metadata": {
    "colab": {
     "base_uri": "https://localhost:8080/"
    },
    "executionInfo": {
     "elapsed": 8349,
     "status": "ok",
     "timestamp": 1613770059988,
     "user": {
      "displayName": "Louise Stephanus",
      "photoUrl": "https://lh3.googleusercontent.com/-rJLQcAeYvCM/AAAAAAAAAAI/AAAAAAAAEn4/v1QpVK4XHqI/s64/photo.jpg",
      "userId": "09768972464709254885"
     },
     "user_tz": 300
    },
    "id": "LUo7F3sUMDoL",
    "outputId": "959a6006-eda4-46a9-aaec-a96773c1e564"
   },
   "outputs": [],
   "source": [
    "# from google.colab import drive\n",
    "# drive.mount('/content/gdrive')"
   ]
  },
  {
   "cell_type": "code",
   "execution_count": 81,
   "metadata": {
    "colab": {
     "base_uri": "https://localhost:8080/",
     "height": 202
    },
    "executionInfo": {
     "elapsed": 260,
     "status": "ok",
     "timestamp": 1613770402877,
     "user": {
      "displayName": "Louise Stephanus",
      "photoUrl": "https://lh3.googleusercontent.com/-rJLQcAeYvCM/AAAAAAAAAAI/AAAAAAAAEn4/v1QpVK4XHqI/s64/photo.jpg",
      "userId": "09768972464709254885"
     },
     "user_tz": 300
    },
    "id": "LbNP221MMNAV",
    "outputId": "182431a0-1722-4fd9-a73e-b2478462a011",
    "scrolled": true
   },
   "outputs": [
    {
     "data": {
      "text/html": [
       "<div>\n",
       "<style scoped>\n",
       "    .dataframe tbody tr th:only-of-type {\n",
       "        vertical-align: middle;\n",
       "    }\n",
       "\n",
       "    .dataframe tbody tr th {\n",
       "        vertical-align: top;\n",
       "    }\n",
       "\n",
       "    .dataframe thead th {\n",
       "        text-align: right;\n",
       "    }\n",
       "</style>\n",
       "<table border=\"1\" class=\"dataframe\">\n",
       "  <thead>\n",
       "    <tr style=\"text-align: right;\">\n",
       "      <th></th>\n",
       "      <th>Review #</th>\n",
       "      <th>Brand</th>\n",
       "      <th>Variety</th>\n",
       "      <th>Style</th>\n",
       "      <th>Country</th>\n",
       "      <th>Stars</th>\n",
       "      <th>Top Ten</th>\n",
       "      <th>Region</th>\n",
       "    </tr>\n",
       "  </thead>\n",
       "  <tbody>\n",
       "    <tr>\n",
       "      <th>0</th>\n",
       "      <td>2580</td>\n",
       "      <td>New Touch</td>\n",
       "      <td>T's Restaurant Tantanmen</td>\n",
       "      <td>Cup</td>\n",
       "      <td>Japan</td>\n",
       "      <td>3.75</td>\n",
       "      <td>NaN</td>\n",
       "      <td>North Asia</td>\n",
       "    </tr>\n",
       "    <tr>\n",
       "      <th>1</th>\n",
       "      <td>2579</td>\n",
       "      <td>Just Way</td>\n",
       "      <td>Noodles Spicy Hot Sesame Spicy Hot Sesame Guan...</td>\n",
       "      <td>Pack</td>\n",
       "      <td>Taiwan</td>\n",
       "      <td>1</td>\n",
       "      <td>NaN</td>\n",
       "      <td>East Asia</td>\n",
       "    </tr>\n",
       "    <tr>\n",
       "      <th>2</th>\n",
       "      <td>2578</td>\n",
       "      <td>Nissin</td>\n",
       "      <td>Cup Noodles Chicken Vegetable</td>\n",
       "      <td>Cup</td>\n",
       "      <td>USA</td>\n",
       "      <td>2.25</td>\n",
       "      <td>NaN</td>\n",
       "      <td>North America</td>\n",
       "    </tr>\n",
       "    <tr>\n",
       "      <th>3</th>\n",
       "      <td>2577</td>\n",
       "      <td>Wei Lih</td>\n",
       "      <td>GGE Ramen Snack Tomato Flavor</td>\n",
       "      <td>Pack</td>\n",
       "      <td>Taiwan</td>\n",
       "      <td>2.75</td>\n",
       "      <td>NaN</td>\n",
       "      <td>East Asia</td>\n",
       "    </tr>\n",
       "    <tr>\n",
       "      <th>4</th>\n",
       "      <td>2576</td>\n",
       "      <td>Ching's Secret</td>\n",
       "      <td>Singapore Curry</td>\n",
       "      <td>Pack</td>\n",
       "      <td>India</td>\n",
       "      <td>3.75</td>\n",
       "      <td>NaN</td>\n",
       "      <td>South Asia</td>\n",
       "    </tr>\n",
       "  </tbody>\n",
       "</table>\n",
       "</div>"
      ],
      "text/plain": [
       "   Review #           Brand  \\\n",
       "0      2580       New Touch   \n",
       "1      2579        Just Way   \n",
       "2      2578          Nissin   \n",
       "3      2577         Wei Lih   \n",
       "4      2576  Ching's Secret   \n",
       "\n",
       "                                             Variety Style Country Stars  \\\n",
       "0                           T's Restaurant Tantanmen   Cup   Japan  3.75   \n",
       "1  Noodles Spicy Hot Sesame Spicy Hot Sesame Guan...  Pack  Taiwan     1   \n",
       "2                      Cup Noodles Chicken Vegetable   Cup     USA  2.25   \n",
       "3                      GGE Ramen Snack Tomato Flavor  Pack  Taiwan  2.75   \n",
       "4                                    Singapore Curry  Pack   India  3.75   \n",
       "\n",
       "  Top Ten         Region  \n",
       "0     NaN     North Asia  \n",
       "1     NaN      East Asia  \n",
       "2     NaN  North America  \n",
       "3     NaN      East Asia  \n",
       "4     NaN     South Asia  "
      ]
     },
     "execution_count": 81,
     "metadata": {},
     "output_type": "execute_result"
    }
   ],
   "source": [
    "# df = pd.read_csv('/content/gdrive/My Drive/Colab Datasets/ramen-ratings.csv')\n",
    "# df.head()\n",
    "# https://www.kaggle.com/iqrar99/ramen-ratings-eda-for-beginner\n",
    "# https://www.kaggle.com/residentmario/ramen-ratings\n",
    "# https://www.theramenrater.com/resources-2/the-list/ (ACTUAL DataSet)\n",
    "df = pd.read_csv('ramen-ratings.csv')\n",
    "df.head()"
   ]
  },
  {
   "cell_type": "markdown",
   "metadata": {},
   "source": [
    "## Clean and Wrangle"
   ]
  },
  {
   "cell_type": "code",
   "execution_count": 82,
   "metadata": {},
   "outputs": [
    {
     "data": {
      "text/plain": [
       "Review #       0\n",
       "Brand          0\n",
       "Variety        0\n",
       "Style          2\n",
       "Country        0\n",
       "Stars          0\n",
       "Top Ten     2539\n",
       "Region         0\n",
       "dtype: int64"
      ]
     },
     "execution_count": 82,
     "metadata": {},
     "output_type": "execute_result"
    }
   ],
   "source": [
    "# do we have any missing values?\n",
    "df.isna().sum()\n",
    "\n",
    "# top Ten data tells us if ramen != 'Top Ten', then it will be blank\n",
    "# just drop the 2 values in Style"
   ]
  },
  {
   "cell_type": "code",
   "execution_count": 83,
   "metadata": {},
   "outputs": [
    {
     "name": "stdout",
     "output_type": "stream",
     "text": [
      "0\n"
     ]
    }
   ],
   "source": [
    "# drop the 2 values in Style\n",
    "df = df.dropna(subset=['Style'])\n",
    "# return number of missing values\n",
    "print(df[\"Style\"].isna().sum())"
   ]
  },
  {
   "cell_type": "code",
   "execution_count": 84,
   "metadata": {},
   "outputs": [
    {
     "data": {
      "text/plain": [
       "Review #       0\n",
       "Brand          0\n",
       "Variety        0\n",
       "Style          0\n",
       "Country        0\n",
       "Stars          0\n",
       "Top Ten     2537\n",
       "Region         0\n",
       "dtype: int64"
      ]
     },
     "execution_count": 84,
     "metadata": {},
     "output_type": "execute_result"
    }
   ],
   "source": [
    "# confirmed\n",
    "df.isna().sum()"
   ]
  },
  {
   "cell_type": "markdown",
   "metadata": {},
   "source": [
    "## Exploration 1: Cup vs Bowl"
   ]
  },
  {
   "cell_type": "code",
   "execution_count": 85,
   "metadata": {},
   "outputs": [
    {
     "name": "stdout",
     "output_type": "stream",
     "text": [
      "<class 'pandas.core.frame.DataFrame'>\n",
      "Int64Index: 481 entries, 13 to 2575\n",
      "Data columns (total 8 columns):\n",
      " #   Column    Non-Null Count  Dtype  \n",
      "---  ------    --------------  -----  \n",
      " 0   Review #  481 non-null    int64  \n",
      " 1   Brand     481 non-null    object \n",
      " 2   Variety   481 non-null    object \n",
      " 3   Style     481 non-null    object \n",
      " 4   Country   481 non-null    object \n",
      " 5   Stars     481 non-null    float64\n",
      " 6   Top Ten   1 non-null      object \n",
      " 7   Region    481 non-null    object \n",
      "dtypes: float64(1), int64(1), object(6)\n",
      "memory usage: 33.8+ KB\n"
     ]
    }
   ],
   "source": [
    "# create a copy filtering only Bowl and convert the stars column into a float so you can do math\n",
    "# Stars are currently object data types, which really means strings in Pandas, which can't do math\n",
    "df_bowl = df[df['Style']==\"Bowl\"].copy()\n",
    "df_bowl['Stars'] = pd.to_numeric(df_bowls['Stars'])\n",
    "df_bowl.info()"
   ]
  },
  {
   "cell_type": "code",
   "execution_count": 86,
   "metadata": {
    "colab": {
     "base_uri": "https://localhost:8080/"
    },
    "executionInfo": {
     "elapsed": 226,
     "status": "ok",
     "timestamp": 1613771946269,
     "user": {
      "displayName": "Louise Stephanus",
      "photoUrl": "https://lh3.googleusercontent.com/-rJLQcAeYvCM/AAAAAAAAAAI/AAAAAAAAEn4/v1QpVK4XHqI/s64/photo.jpg",
      "userId": "09768972464709254885"
     },
     "user_tz": 300
    },
    "id": "Pc9tAxvHTWA9",
    "outputId": "120e42c3-2968-4567-faff-7954cde209bf"
   },
   "outputs": [
    {
     "name": "stdout",
     "output_type": "stream",
     "text": [
      "<class 'pandas.core.frame.DataFrame'>\n",
      "Int64Index: 450 entries, 0 to 2571\n",
      "Data columns (total 8 columns):\n",
      " #   Column    Non-Null Count  Dtype  \n",
      "---  ------    --------------  -----  \n",
      " 0   Review #  450 non-null    int64  \n",
      " 1   Brand     450 non-null    object \n",
      " 2   Variety   450 non-null    object \n",
      " 3   Style     450 non-null    object \n",
      " 4   Country   450 non-null    object \n",
      " 5   Stars     450 non-null    float64\n",
      " 6   Top Ten   1 non-null      object \n",
      " 7   Region    450 non-null    object \n",
      "dtypes: float64(1), int64(1), object(6)\n",
      "memory usage: 31.6+ KB\n"
     ]
    }
   ],
   "source": [
    "# create a copy filtering only Cup and convert the stars column into a float so you can do math\n",
    "# again, Stars are currently object data types, which really means strings but we need nubers to do math\n",
    "df_cup = df.loc[df['Style']==\"Cup\"].copy()\n",
    "df_cup['Stars']=pd.to_numeric(df_cup['Stars'])\n",
    "df_cup.info()"
   ]
  },
  {
   "cell_type": "code",
   "execution_count": 87,
   "metadata": {
    "colab": {
     "base_uri": "https://localhost:8080/"
    },
    "executionInfo": {
     "elapsed": 280,
     "status": "ok",
     "timestamp": 1613771923851,
     "user": {
      "displayName": "Louise Stephanus",
      "photoUrl": "https://lh3.googleusercontent.com/-rJLQcAeYvCM/AAAAAAAAAAI/AAAAAAAAEn4/v1QpVK4XHqI/s64/photo.jpg",
      "userId": "09768972464709254885"
     },
     "user_tz": 300
    },
    "id": "kOIpgsCeNZ19",
    "outputId": "bfc09fb9-ba19-4f94-eb2d-5eaa67eff86e",
    "scrolled": true
   },
   "outputs": [
    {
     "name": "stdout",
     "output_type": "stream",
     "text": [
      "<class 'pandas.core.frame.DataFrame'>\n",
      "Int64Index: 481 entries, 13 to 2575\n",
      "Data columns (total 8 columns):\n",
      " #   Column    Non-Null Count  Dtype  \n",
      "---  ------    --------------  -----  \n",
      " 0   Review #  481 non-null    int64  \n",
      " 1   Brand     481 non-null    object \n",
      " 2   Variety   481 non-null    object \n",
      " 3   Style     481 non-null    object \n",
      " 4   Country   481 non-null    object \n",
      " 5   Stars     481 non-null    float64\n",
      " 6   Top Ten   1 non-null      object \n",
      " 7   Region    481 non-null    object \n",
      "dtypes: float64(1), int64(1), object(6)\n",
      "memory usage: 33.8+ KB\n"
     ]
    }
   ],
   "source": [
    "# df_cup.info()\n",
    "df_bowl.info()"
   ]
  },
  {
   "cell_type": "markdown",
   "metadata": {},
   "source": [
    "## Visualization: Reviews by Ramen Style"
   ]
  },
  {
   "cell_type": "code",
   "execution_count": 100,
   "metadata": {
    "scrolled": false
   },
   "outputs": [
    {
     "data": {
      "image/png": "[encoded data removed]",
      "text/plain": [
       "<Figure size 720x720 with 1 Axes>"
      ]
     },
     "metadata": {},
     "output_type": "display_data"
    }
   ],
   "source": [
    "labels = 'Pack', 'Bowl', 'Cup' , 'Tray', 'Box' #We can't include 'Bar' and 'Can' because they only appear once in our data.\n",
    "size = [1531, 481, 450, 108, 6]\n",
    "\n",
    "f, ax = plt.subplots(1,1, figsize= (10,10))\n",
    "\n",
    "ax.pie(size, labels = labels, autopct = '%1.2f%%', startangle = 180)\n",
    "ax.axis('equal')\n",
    "ax.set_title(\"Style\", size = 20)\n",
    "\n",
    "plt.show()"
   ]
  },
  {
   "cell_type": "markdown",
   "metadata": {},
   "source": [
    "## Hypothesis One\n",
    "H0:  There is no statistically significant difference in the mean star rating between cup and bowl ramen\n",
    "\n",
    "Ha:  There is a statistically significant difference in the mean star rating between cup and bowl ramen"
   ]
  },
  {
   "cell_type": "markdown",
   "metadata": {},
   "source": [
    "## t test"
   ]
  },
  {
   "cell_type": "code",
   "execution_count": 90,
   "metadata": {
    "colab": {
     "base_uri": "https://localhost:8080/"
    },
    "executionInfo": {
     "elapsed": 833,
     "status": "ok",
     "timestamp": 1613771972668,
     "user": {
      "displayName": "Louise Stephanus",
      "photoUrl": "https://lh3.googleusercontent.com/-rJLQcAeYvCM/AAAAAAAAAAI/AAAAAAAAEn4/v1QpVK4XHqI/s64/photo.jpg",
      "userId": "09768972464709254885"
     },
     "user_tz": 300
    },
    "id": "3R9U5-elTbgf",
    "outputId": "102f5f05-6484-4e77-c1ca-b8bf33930976"
   },
   "outputs": [
    {
     "data": {
      "text/plain": [
       "Ttest_indResult(statistic=2.506453987828691, pvalue=0.012365028549752646)"
      ]
     },
     "execution_count": 90,
     "metadata": {},
     "output_type": "execute_result"
    }
   ],
   "source": [
    "stats.ttest_ind(df_bowl['Stars'],df_cup['Stars'], equal_var = False)"
   ]
  },
  {
   "cell_type": "markdown",
   "metadata": {},
   "source": [
    "There is statistical significant difference in means at the 0.01 level, so we reject the null hypothesis."
   ]
  },
  {
   "cell_type": "markdown",
   "metadata": {},
   "source": [
    "## Exploration 2: USA Ratings vs Japan Ratings"
   ]
  },
  {
   "cell_type": "markdown",
   "metadata": {},
   "source": [
    "## Ratings per Country"
   ]
  },
  {
   "cell_type": "code",
   "execution_count": 103,
   "metadata": {},
   "outputs": [
    {
     "data": {
      "image/png": "[encoded data removed]",
      "text/plain": [
       "<Figure size 1080x360 with 1 Axes>"
      ]
     },
     "metadata": {},
     "output_type": "display_data"
    }
   ],
   "source": [
    "sns.set(style = 'darkgrid')\n",
    "f, ax = plt.subplots(1,1,figsize = (15,5))\n",
    "sns.countplot(x = 'Country', data = df)\n",
    "plt.xticks(rotation=90)\n",
    "\n",
    "plt.show()"
   ]
  },
  {
   "cell_type": "code",
   "execution_count": 89,
   "metadata": {
    "scrolled": false
   },
   "outputs": [
    {
     "data": {
      "text/plain": [
       "Japan            352\n",
       "USA              323\n",
       "South Korea      309\n",
       "Taiwan           223\n",
       "Thailand         191\n",
       "China            168\n",
       "Malaysia         156\n",
       "Hong Kong        137\n",
       "Indonesia        126\n",
       "Singapore        109\n",
       "Vietnam          108\n",
       "UK                69\n",
       "Philippines       47\n",
       "Canada            41\n",
       "India             31\n",
       "Germany           27\n",
       "Mexico            25\n",
       "Australia         22\n",
       "Netherlands       15\n",
       "Nepal             14\n",
       "Myanmar           14\n",
       "Pakistan           9\n",
       "Hungary            9\n",
       "Bangladesh         7\n",
       "Colombia           6\n",
       "Cambodia           5\n",
       "Brazil             5\n",
       "Fiji               4\n",
       "Holland            4\n",
       "Poland             4\n",
       "Dubai              3\n",
       "Sarawak            3\n",
       "Finland            3\n",
       "Sweden             3\n",
       "Estonia            2\n",
       "Ghana              2\n",
       "Nigeria            1\n",
       "United States      1\n",
       "Name: Country, dtype: int64"
      ]
     },
     "execution_count": 89,
     "metadata": {},
     "output_type": "execute_result"
    }
   ],
   "source": [
    "df['Country'].value_counts()"
   ]
  },
  {
   "cell_type": "code",
   "execution_count": 94,
   "metadata": {},
   "outputs": [
    {
     "data": {
      "text/plain": [
       "count    323.000000\n",
       "mean       3.457043\n",
       "std        1.055773\n",
       "min        0.000000\n",
       "25%        3.000000\n",
       "50%        3.500000\n",
       "75%        4.000000\n",
       "max        5.000000\n",
       "Name: Stars, dtype: float64"
      ]
     },
     "execution_count": 94,
     "metadata": {},
     "output_type": "execute_result"
    }
   ],
   "source": [
    "df_USA['Stars'].describe()"
   ]
  },
  {
   "cell_type": "code",
   "execution_count": 95,
   "metadata": {},
   "outputs": [
    {
     "data": {
      "text/plain": [
       "2     2.25\n",
       "11    5.00\n",
       "17    5.00\n",
       "21    5.00\n",
       "23    4.75\n",
       "Name: Stars, dtype: float64"
      ]
     },
     "execution_count": 95,
     "metadata": {},
     "output_type": "execute_result"
    }
   ],
   "source": [
    "df_USA['Stars'].head()"
   ]
  },
  {
   "cell_type": "code",
   "execution_count": 96,
   "metadata": {},
   "outputs": [
    {
     "data": {
      "text/plain": [
       "count    352.000000\n",
       "mean       3.981605\n",
       "std        0.913755\n",
       "min        0.000000\n",
       "25%        3.500000\n",
       "50%        4.000000\n",
       "75%        4.750000\n",
       "max        5.000000\n",
       "Name: Stars, dtype: float64"
      ]
     },
     "execution_count": 96,
     "metadata": {},
     "output_type": "execute_result"
    }
   ],
   "source": [
    "df_Japan['Stars'].describe()"
   ]
  },
  {
   "cell_type": "code",
   "execution_count": 97,
   "metadata": {},
   "outputs": [
    {
     "data": {
      "text/plain": [
       "0     3.75\n",
       "6     4.00\n",
       "7     3.75\n",
       "8     0.25\n",
       "13    4.50\n",
       "Name: Stars, dtype: float64"
      ]
     },
     "execution_count": 97,
     "metadata": {},
     "output_type": "execute_result"
    }
   ],
   "source": [
    "df_Japan['Stars'].head()"
   ]
  },
  {
   "cell_type": "code",
   "execution_count": 92,
   "metadata": {},
   "outputs": [
    {
     "data": {
      "text/html": [
       "<div>\n",
       "<style scoped>\n",
       "    .dataframe tbody tr th:only-of-type {\n",
       "        vertical-align: middle;\n",
       "    }\n",
       "\n",
       "    .dataframe tbody tr th {\n",
       "        vertical-align: top;\n",
       "    }\n",
       "\n",
       "    .dataframe thead th {\n",
       "        text-align: right;\n",
       "    }\n",
       "</style>\n",
       "<table border=\"1\" class=\"dataframe\">\n",
       "  <thead>\n",
       "    <tr style=\"text-align: right;\">\n",
       "      <th></th>\n",
       "      <th>Review #</th>\n",
       "      <th>Brand</th>\n",
       "      <th>Variety</th>\n",
       "      <th>Style</th>\n",
       "      <th>Country</th>\n",
       "      <th>Stars</th>\n",
       "      <th>Top Ten</th>\n",
       "      <th>Region</th>\n",
       "    </tr>\n",
       "  </thead>\n",
       "  <tbody>\n",
       "    <tr>\n",
       "      <th>2</th>\n",
       "      <td>2578</td>\n",
       "      <td>Nissin</td>\n",
       "      <td>Cup Noodles Chicken Vegetable</td>\n",
       "      <td>Cup</td>\n",
       "      <td>USA</td>\n",
       "      <td>2.25</td>\n",
       "      <td>NaN</td>\n",
       "      <td>North America</td>\n",
       "    </tr>\n",
       "    <tr>\n",
       "      <th>11</th>\n",
       "      <td>2569</td>\n",
       "      <td>Yamachan</td>\n",
       "      <td>Yokohama Tonkotsu Shoyu</td>\n",
       "      <td>Pack</td>\n",
       "      <td>USA</td>\n",
       "      <td>5.00</td>\n",
       "      <td>NaN</td>\n",
       "      <td>North America</td>\n",
       "    </tr>\n",
       "    <tr>\n",
       "      <th>17</th>\n",
       "      <td>2563</td>\n",
       "      <td>Yamachan</td>\n",
       "      <td>Tokyo Shoyu Ramen</td>\n",
       "      <td>Pack</td>\n",
       "      <td>USA</td>\n",
       "      <td>5.00</td>\n",
       "      <td>NaN</td>\n",
       "      <td>North America</td>\n",
       "    </tr>\n",
       "    <tr>\n",
       "      <th>21</th>\n",
       "      <td>2559</td>\n",
       "      <td>Jackpot Teriyaki</td>\n",
       "      <td>Beef Ramen</td>\n",
       "      <td>Pack</td>\n",
       "      <td>USA</td>\n",
       "      <td>5.00</td>\n",
       "      <td>NaN</td>\n",
       "      <td>North America</td>\n",
       "    </tr>\n",
       "    <tr>\n",
       "      <th>23</th>\n",
       "      <td>2557</td>\n",
       "      <td>Yamachan</td>\n",
       "      <td>Sapporo Miso Ramen</td>\n",
       "      <td>Pack</td>\n",
       "      <td>USA</td>\n",
       "      <td>4.75</td>\n",
       "      <td>NaN</td>\n",
       "      <td>North America</td>\n",
       "    </tr>\n",
       "  </tbody>\n",
       "</table>\n",
       "</div>"
      ],
      "text/plain": [
       "    Review #             Brand                        Variety Style Country  \\\n",
       "2       2578            Nissin  Cup Noodles Chicken Vegetable   Cup     USA   \n",
       "11      2569          Yamachan        Yokohama Tonkotsu Shoyu  Pack     USA   \n",
       "17      2563          Yamachan              Tokyo Shoyu Ramen  Pack     USA   \n",
       "21      2559  Jackpot Teriyaki                     Beef Ramen  Pack     USA   \n",
       "23      2557          Yamachan             Sapporo Miso Ramen  Pack     USA   \n",
       "\n",
       "    Stars Top Ten         Region  \n",
       "2    2.25     NaN  North America  \n",
       "11   5.00     NaN  North America  \n",
       "17   5.00     NaN  North America  \n",
       "21   5.00     NaN  North America  \n",
       "23   4.75     NaN  North America  "
      ]
     },
     "execution_count": 92,
     "metadata": {},
     "output_type": "execute_result"
    }
   ],
   "source": [
    "df_USA = df[df['Country']==\"USA\"].copy()\n",
    "df_USA['Stars'] =pd.to_numeric(df_USA['Stars'])\n",
    "df_USA.head()"
   ]
  },
  {
   "cell_type": "code",
   "execution_count": 93,
   "metadata": {
    "colab": {
     "base_uri": "https://localhost:8080/",
     "height": 202
    },
    "executionInfo": {
     "elapsed": 288,
     "status": "ok",
     "timestamp": 1613772112143,
     "user": {
      "displayName": "Louise Stephanus",
      "photoUrl": "https://lh3.googleusercontent.com/-rJLQcAeYvCM/AAAAAAAAAAI/AAAAAAAAEn4/v1QpVK4XHqI/s64/photo.jpg",
      "userId": "09768972464709254885"
     },
     "user_tz": 300
    },
    "id": "AgZU0o_YT8xW",
    "outputId": "1c75bca4-a16c-448c-8ce6-3d4c8bb1b828"
   },
   "outputs": [
    {
     "data": {
      "text/html": [
       "<div>\n",
       "<style scoped>\n",
       "    .dataframe tbody tr th:only-of-type {\n",
       "        vertical-align: middle;\n",
       "    }\n",
       "\n",
       "    .dataframe tbody tr th {\n",
       "        vertical-align: top;\n",
       "    }\n",
       "\n",
       "    .dataframe thead th {\n",
       "        text-align: right;\n",
       "    }\n",
       "</style>\n",
       "<table border=\"1\" class=\"dataframe\">\n",
       "  <thead>\n",
       "    <tr style=\"text-align: right;\">\n",
       "      <th></th>\n",
       "      <th>Review #</th>\n",
       "      <th>Brand</th>\n",
       "      <th>Variety</th>\n",
       "      <th>Style</th>\n",
       "      <th>Country</th>\n",
       "      <th>Stars</th>\n",
       "      <th>Top Ten</th>\n",
       "      <th>Region</th>\n",
       "    </tr>\n",
       "  </thead>\n",
       "  <tbody>\n",
       "    <tr>\n",
       "      <th>2</th>\n",
       "      <td>2578</td>\n",
       "      <td>Nissin</td>\n",
       "      <td>Cup Noodles Chicken Vegetable</td>\n",
       "      <td>Cup</td>\n",
       "      <td>USA</td>\n",
       "      <td>2.25</td>\n",
       "      <td>NaN</td>\n",
       "      <td>North America</td>\n",
       "    </tr>\n",
       "    <tr>\n",
       "      <th>11</th>\n",
       "      <td>2569</td>\n",
       "      <td>Yamachan</td>\n",
       "      <td>Yokohama Tonkotsu Shoyu</td>\n",
       "      <td>Pack</td>\n",
       "      <td>USA</td>\n",
       "      <td>5.00</td>\n",
       "      <td>NaN</td>\n",
       "      <td>North America</td>\n",
       "    </tr>\n",
       "    <tr>\n",
       "      <th>17</th>\n",
       "      <td>2563</td>\n",
       "      <td>Yamachan</td>\n",
       "      <td>Tokyo Shoyu Ramen</td>\n",
       "      <td>Pack</td>\n",
       "      <td>USA</td>\n",
       "      <td>5.00</td>\n",
       "      <td>NaN</td>\n",
       "      <td>North America</td>\n",
       "    </tr>\n",
       "    <tr>\n",
       "      <th>21</th>\n",
       "      <td>2559</td>\n",
       "      <td>Jackpot Teriyaki</td>\n",
       "      <td>Beef Ramen</td>\n",
       "      <td>Pack</td>\n",
       "      <td>USA</td>\n",
       "      <td>5.00</td>\n",
       "      <td>NaN</td>\n",
       "      <td>North America</td>\n",
       "    </tr>\n",
       "    <tr>\n",
       "      <th>23</th>\n",
       "      <td>2557</td>\n",
       "      <td>Yamachan</td>\n",
       "      <td>Sapporo Miso Ramen</td>\n",
       "      <td>Pack</td>\n",
       "      <td>USA</td>\n",
       "      <td>4.75</td>\n",
       "      <td>NaN</td>\n",
       "      <td>North America</td>\n",
       "    </tr>\n",
       "    <tr>\n",
       "      <th>...</th>\n",
       "      <td>...</td>\n",
       "      <td>...</td>\n",
       "      <td>...</td>\n",
       "      <td>...</td>\n",
       "      <td>...</td>\n",
       "      <td>...</td>\n",
       "      <td>...</td>\n",
       "      <td>...</td>\n",
       "    </tr>\n",
       "    <tr>\n",
       "      <th>2516</th>\n",
       "      <td>64</td>\n",
       "      <td>Sapporo Ichiban</td>\n",
       "      <td>Chicken Flavor</td>\n",
       "      <td>Pack</td>\n",
       "      <td>USA</td>\n",
       "      <td>3.50</td>\n",
       "      <td>NaN</td>\n",
       "      <td>North America</td>\n",
       "    </tr>\n",
       "    <tr>\n",
       "      <th>2546</th>\n",
       "      <td>34</td>\n",
       "      <td>Maruchan</td>\n",
       "      <td>Ramen Noodle Soup Shrimp</td>\n",
       "      <td>Pack</td>\n",
       "      <td>USA</td>\n",
       "      <td>2.00</td>\n",
       "      <td>NaN</td>\n",
       "      <td>North America</td>\n",
       "    </tr>\n",
       "    <tr>\n",
       "      <th>2557</th>\n",
       "      <td>23</td>\n",
       "      <td>Nissin</td>\n",
       "      <td>Top Ramen Creamy Chicken</td>\n",
       "      <td>Pack</td>\n",
       "      <td>USA</td>\n",
       "      <td>4.50</td>\n",
       "      <td>NaN</td>\n",
       "      <td>North America</td>\n",
       "    </tr>\n",
       "    <tr>\n",
       "      <th>2570</th>\n",
       "      <td>10</td>\n",
       "      <td>Smack</td>\n",
       "      <td>Vegetable Beef</td>\n",
       "      <td>Pack</td>\n",
       "      <td>USA</td>\n",
       "      <td>1.50</td>\n",
       "      <td>NaN</td>\n",
       "      <td>North America</td>\n",
       "    </tr>\n",
       "    <tr>\n",
       "      <th>2579</th>\n",
       "      <td>1</td>\n",
       "      <td>Westbrae</td>\n",
       "      <td>Miso Ramen</td>\n",
       "      <td>Pack</td>\n",
       "      <td>USA</td>\n",
       "      <td>0.50</td>\n",
       "      <td>NaN</td>\n",
       "      <td>North America</td>\n",
       "    </tr>\n",
       "  </tbody>\n",
       "</table>\n",
       "<p>323 rows × 8 columns</p>\n",
       "</div>"
      ],
      "text/plain": [
       "      Review #             Brand                        Variety Style Country  \\\n",
       "2         2578            Nissin  Cup Noodles Chicken Vegetable   Cup     USA   \n",
       "11        2569          Yamachan        Yokohama Tonkotsu Shoyu  Pack     USA   \n",
       "17        2563          Yamachan              Tokyo Shoyu Ramen  Pack     USA   \n",
       "21        2559  Jackpot Teriyaki                     Beef Ramen  Pack     USA   \n",
       "23        2557          Yamachan             Sapporo Miso Ramen  Pack     USA   \n",
       "...        ...               ...                            ...   ...     ...   \n",
       "2516        64   Sapporo Ichiban                 Chicken Flavor  Pack     USA   \n",
       "2546        34          Maruchan       Ramen Noodle Soup Shrimp  Pack     USA   \n",
       "2557        23            Nissin       Top Ramen Creamy Chicken  Pack     USA   \n",
       "2570        10             Smack                 Vegetable Beef  Pack     USA   \n",
       "2579         1          Westbrae                     Miso Ramen  Pack     USA   \n",
       "\n",
       "      Stars Top Ten         Region  \n",
       "2      2.25     NaN  North America  \n",
       "11     5.00     NaN  North America  \n",
       "17     5.00     NaN  North America  \n",
       "21     5.00     NaN  North America  \n",
       "23     4.75     NaN  North America  \n",
       "...     ...     ...            ...  \n",
       "2516   3.50     NaN  North America  \n",
       "2546   2.00     NaN  North America  \n",
       "2557   4.50     NaN  North America  \n",
       "2570   1.50     NaN  North America  \n",
       "2579   0.50     NaN  North America  \n",
       "\n",
       "[323 rows x 8 columns]"
      ]
     },
     "execution_count": 93,
     "metadata": {},
     "output_type": "execute_result"
    }
   ],
   "source": [
    "df_Japan = df[df['Country']==\"Japan\"].copy()\n",
    "df_Japan['Stars'] = pd.to_numeric(df_Japan['Stars'])\n",
    "df_USA"
   ]
  },
  {
   "cell_type": "markdown",
   "metadata": {},
   "source": [
    "## Hypothesis Two\n",
    "\n",
    "H0:  There is no statistically significant difference in the mean of star ratings between two selected countries (Japan vs. USA)\n",
    "\n",
    "Ha:  There is a statistically significant difference in the mean of star ratings between two selected countries (Japan vs. USA)\n"
   ]
  },
  {
   "cell_type": "markdown",
   "metadata": {},
   "source": [
    "## t test"
   ]
  },
  {
   "cell_type": "code",
   "execution_count": 98,
   "metadata": {
    "colab": {
     "base_uri": "https://localhost:8080/",
     "height": 381
    },
    "executionInfo": {
     "elapsed": 235,
     "status": "error",
     "timestamp": 1613772361847,
     "user": {
      "displayName": "Louise Stephanus",
      "photoUrl": "https://lh3.googleusercontent.com/-rJLQcAeYvCM/AAAAAAAAAAI/AAAAAAAAEn4/v1QpVK4XHqI/s64/photo.jpg",
      "userId": "09768972464709254885"
     },
     "user_tz": 300
    },
    "id": "HmCNXPXVUD_U",
    "outputId": "c5230ff3-0d0f-4caf-ba8e-e1fd901af55d"
   },
   "outputs": [
    {
     "data": {
      "text/plain": [
       "Ttest_indResult(statistic=-6.874240416647977, pvalue=1.4837195813145684e-11)"
      ]
     },
     "execution_count": 98,
     "metadata": {},
     "output_type": "execute_result"
    }
   ],
   "source": [
    "stats.ttest_ind(df_USA['Stars'],df_Japan['Stars'], equal_var = False)"
   ]
  },
  {
   "cell_type": "markdown",
   "metadata": {},
   "source": [
    "There is statistical significant difference in means at the 0.00 level, so we reject the null hypothesis."
   ]
  }
 ],
 "metadata": {
  "colab": {
   "authorship_tag": "ABX9TyOISd065ZnFmm0y1eR/0EjQ",
   "name": "Ramen.ipynb",
   "provenance": []
  },
  "kernelspec": {
   "display_name": "Python 3",
   "language": "python",
   "name": "python3"
  },
  "language_info": {
   "codemirror_mode": {
    "name": "ipython",
    "version": 3
   },
   "file_extension": ".py",
   "mimetype": "text/x-python",
   "name": "python",
   "nbconvert_exporter": "python",
   "pygments_lexer": "ipython3",
   "version": "3.8.2"
  }
 },
 "nbformat": 4,
 "nbformat_minor": 1
}
